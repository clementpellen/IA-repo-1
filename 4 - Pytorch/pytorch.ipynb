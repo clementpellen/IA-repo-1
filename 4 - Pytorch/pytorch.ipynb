{
 "cells": [
  {
   "cell_type": "code",
   "execution_count": 1,
   "metadata": {},
   "outputs": [],
   "source": [
    "from __future__ import print_function\n",
    "import torch"
   ]
  },
  {
   "cell_type": "code",
   "execution_count": 5,
   "metadata": {},
   "outputs": [
    {
     "name": "stdout",
     "output_type": "stream",
     "text": [
      "False\n",
      "False\n"
     ]
    }
   ],
   "source": [
    "# 2d tensor\n",
    "x = [12, 23, 34, 45, 56, 67, 78]\n",
    "print(torch.is_tensor(x))\n",
    "print(torch.is_storage(x))\n"
   ]
  },
  {
   "cell_type": "code",
   "execution_count": 9,
   "metadata": {},
   "outputs": [
    {
     "name": "stdout",
     "output_type": "stream",
     "text": [
      "True\n",
      "False\n",
      "120\n"
     ]
    }
   ],
   "source": [
    "y = torch.randn(1, 2, 3, 4, 5)\n",
    "print(torch.is_tensor(y))\n",
    "print(torch.is_storage(y))\n",
    "print(torch.numel(y))  # the total number of elements in the input Tensor\n"
   ]
  },
  {
   "cell_type": "code",
   "execution_count": 11,
   "metadata": {},
   "outputs": [
    {
     "name": "stdout",
     "output_type": "stream",
     "text": [
      "tensor([[0., 0., 0., 0.],\n",
      "        [0., 0., 0., 0.],\n",
      "        [0., 0., 0., 0.],\n",
      "        [0., 0., 0., 0.]])\n",
      "16\n"
     ]
    }
   ],
   "source": [
    "print(torch.zeros(4,4))\n",
    "print(torch.numel(torch.zeros(4,4)))"
   ]
  },
  {
   "cell_type": "code",
   "execution_count": 13,
   "metadata": {},
   "outputs": [
    {
     "name": "stdout",
     "output_type": "stream",
     "text": [
      "tensor([[1., 0., 0., 0.],\n",
      "        [0., 1., 0., 0.],\n",
      "        [0., 0., 1., 0.]])\n",
      "tensor([[1., 0., 0., 0.],\n",
      "        [0., 1., 0., 0.],\n",
      "        [0., 0., 1., 0.],\n",
      "        [0., 0., 0., 1.],\n",
      "        [0., 0., 0., 0.]])\n"
     ]
    }
   ],
   "source": [
    "print(torch.eye(3, 4))\n",
    "print(torch.eye(5, 4))\n"
   ]
  },
  {
   "cell_type": "code",
   "execution_count": 15,
   "metadata": {},
   "outputs": [
    {
     "name": "stdout",
     "output_type": "stream",
     "text": [
      "[12 23 34 45 56 67 78]\n",
      "tensor([12, 23, 34, 45, 56, 67, 78])\n"
     ]
    }
   ],
   "source": [
    "import numpy as np\n",
    "x1 = np.array(x)\n",
    "print(x1)\n",
    "print(torch.from_numpy(x1))"
   ]
  },
  {
   "cell_type": "code",
   "execution_count": 16,
   "metadata": {},
   "outputs": [
    {
     "data": {
      "text/plain": [
       "tensor([ 2.0000,  2.3333,  2.6667,  3.0000,  3.3333,  3.6667,  4.0000,  4.3333,\n",
       "         4.6667,  5.0000,  5.3333,  5.6667,  6.0000,  6.3333,  6.6667,  7.0000,\n",
       "         7.3333,  7.6667,  8.0000,  8.3333,  8.6667,  9.0000,  9.3333,  9.6667,\n",
       "        10.0000])"
      ]
     },
     "execution_count": 16,
     "metadata": {},
     "output_type": "execute_result"
    }
   ],
   "source": [
    "torch.linspace(2,10,steps=25) # linear spacing"
   ]
  },
  {
   "cell_type": "code",
   "execution_count": 18,
   "metadata": {},
   "outputs": [
    {
     "name": "stdout",
     "output_type": "stream",
     "text": [
      "tensor([0.8218, 0.4302, 0.9156, 0.6321, 0.6692, 0.2514, 0.0541, 0.1581, 0.2416,\n",
      "        0.0036])\n",
      "tensor([[0.4242, 0.8349, 0.3441, 0.1728, 0.5502],\n",
      "        [0.9757, 0.0048, 0.9835, 0.5825, 0.5826],\n",
      "        [0.7263, 0.6478, 0.9234, 0.7048, 0.0586],\n",
      "        [0.2632, 0.4345, 0.9401, 0.8226, 0.3835]])\n",
      "tensor([ 0.5983, -2.5793, -1.7588,  0.5249,  1.0733,  1.0785, -0.8455, -0.7621,\n",
      "        -0.7708,  0.9223])\n",
      "tensor([[-0.0967,  2.5791,  1.1466,  0.0760, -1.1704],\n",
      "        [ 1.0594, -0.4513,  0.7704, -0.4775, -2.3945],\n",
      "        [ 1.5761, -0.7036,  0.9141, -2.1709,  0.0272],\n",
      "        [ 1.1131, -1.3907,  0.0192, -0.6643,  0.9849]])\n"
     ]
    }
   ],
   "source": [
    "print(torch.rand(10)) # 10 uniformly-distributed random values ranging between 0 and 1\n",
    "print(torch.rand(4,5)) # 4x5 uniformly-distributed random values ranging between 0 and 1\n",
    "print(torch.randn(10)) # 10 normally-distributed random values with mean=0 and standard deviation=1\n",
    "print(torch.randn(4,5)) # 4x5 normally-distributed random values with mean=0 and standard deviation=1"
   ]
  },
  {
   "cell_type": "code",
   "execution_count": 20,
   "metadata": {},
   "outputs": [
    {
     "name": "stdout",
     "output_type": "stream",
     "text": [
      "tensor([10, 11, 12, 13, 14, 15, 16, 17, 18, 19, 20, 21, 22, 23, 24, 25, 26, 27,\n",
      "        28, 29, 30, 31, 32, 33, 34, 35, 36, 37, 38, 39])\n",
      "tensor([10, 12, 14, 16, 18, 20, 22, 24, 26, 28, 30, 32, 34, 36, 38])\n"
     ]
    }
   ],
   "source": [
    "print(torch.arange(10,40)) # default step size = 1\n",
    "print(torch.arange(10,40,2)) # step size = 2"
   ]
  },
  {
   "cell_type": "code",
   "execution_count": 22,
   "metadata": {},
   "outputs": [
    {
     "name": "stdout",
     "output_type": "stream",
     "text": [
      "tensor([[ 1.3310,  0.0568,  0.6376, -0.1718,  0.4533],\n",
      "        [-0.3914,  0.9702,  0.0663,  0.3192, -1.3838],\n",
      "        [ 0.1096, -1.1012,  1.1445,  1.1366,  1.4825],\n",
      "        [-0.6198, -0.9143,  1.7808, -0.3092, -0.9826]])\n",
      "tensor([[ 1.3310, -0.3914,  0.1096, -0.6198],\n",
      "        [ 0.0568,  0.9702, -1.1012, -0.9143],\n",
      "        [ 0.6376,  0.0663,  1.1445,  1.7808],\n",
      "        [-0.1718,  0.3192,  1.1366, -0.3092],\n",
      "        [ 0.4533, -1.3838,  1.4825, -0.9826]])\n",
      "tensor([[ 1.3310, -0.3914,  0.1096, -0.6198],\n",
      "        [ 0.0568,  0.9702, -1.1012, -0.9143],\n",
      "        [ 0.6376,  0.0663,  1.1445,  1.7808],\n",
      "        [-0.1718,  0.3192,  1.1366, -0.3092],\n",
      "        [ 0.4533, -1.3838,  1.4825, -0.9826]])\n"
     ]
    }
   ],
   "source": [
    "x = torch.randn(4,5)\n",
    "print(x)\n",
    "print(x.t()) # transpose\n",
    "print(x.transpose(1,0)) # transpose"
   ]
  },
  {
   "cell_type": "code",
   "execution_count": 26,
   "metadata": {},
   "outputs": [],
   "source": [
    "from torch.autograd import Variable\n",
    "a, b = 12, 23\n",
    "x1 = Variable(torch.randn(a, b), requires_grad=True)\n",
    "x2 = Variable(torch.randn(a, b), requires_grad=True)\n",
    "x3 = Variable(torch.randn(a, b), requires_grad=True)\n",
    "c = x1 * x2\n",
    "d = c + x3\n",
    "e = torch.sum(d)\n",
    "e.backward()\n"
   ]
  },
  {
   "cell_type": "code",
   "execution_count": 28,
   "metadata": {},
   "outputs": [
    {
     "name": "stdout",
     "output_type": "stream",
     "text": [
      "tensor([[-0.1117, -0.4966,  0.1631, -0.8817],\n",
      "        [ 0.0539,  0.6684, -0.0597, -0.4675],\n",
      "        [-0.2153,  0.8840, -0.7584, -0.3689],\n",
      "        [-0.3424, -1.4020,  0.3206, -1.0219]])\n",
      "tensor([[0.0290, 0.4019, 0.2598, 0.3666],\n",
      "        [0.0583, 0.7006, 0.0518, 0.4681],\n",
      "        [0.6738, 0.3315, 0.7837, 0.5631],\n",
      "        [0.7749, 0.8208, 0.2793, 0.6817]])\n",
      "tensor([[0., 0., 1., 0.],\n",
      "        [0., 1., 0., 0.],\n",
      "        [0., 0., 1., 1.],\n",
      "        [0., 1., 0., 1.]])\n",
      "tensor([ 0.7389,  2.5494,  2.9921,  2.9869,  4.8777,  6.4369,  6.7274,  8.1902,\n",
      "         9.0384, 10.0092])\n",
      "tensor([-0.3625,  0.8192,  2.9552, -2.5596,  4.5208])\n",
      "tensor([0.4723])\n"
     ]
    }
   ],
   "source": [
    "# Uni-variate standard Gaussian\n",
    "torch.manual_seed(1234)\n",
    "print(torch.randn(4, 4))\n",
    "# random number from uniform distribution\n",
    "torch.manual_seed(1234)\n",
    "print(torch.Tensor(4, 4).uniform_(0, 1))\n",
    "7\n",
    "# Bernoulli by considering uniformly-distributed random values\n",
    "torch.manual_seed(1234)\n",
    "print(torch.bernoulli(torch.Tensor(4, 4).uniform_(0, 1)))\n",
    "# Uni-variate Gaussian\n",
    "print(torch.normal(mean=torch.arange(1., 11.), std=torch.arange(1, 0, -0.1)))\n",
    "print(torch.normal(mean=0.5, std=torch.arange(1., 6.)))\n",
    "print(torch.normal(mean=0.5, std=torch.arange(0.2, 0.6)))\n"
   ]
  },
  {
   "cell_type": "code",
   "execution_count": 30,
   "metadata": {},
   "outputs": [
    {
     "name": "stdout",
     "output_type": "stream",
     "text": [
      "tensor([10., 10., 13., 10., 34., 45., 65., 67., 87., 89., 87., 34.])\n",
      "tensor([ 6,  3, 11])\n",
      "tensor([10,  4,  9, 11,  6])\n"
     ]
    }
   ],
   "source": [
    "a = torch.tensor([10., 10., 13., 10.,\n",
    "34., 45., 65., 67.,\n",
    "87., 89., 87., 34.])\n",
    "print(a)\n",
    "print(torch.multinomial(a,3))\n",
    "print(torch.multinomial(a,5, replacement=True))"
   ]
  },
  {
   "cell_type": "code",
   "execution_count": 1,
   "metadata": {},
   "outputs": [
    {
     "name": "stdout",
     "output_type": "stream",
     "text": [
      "Net(\n",
      "  (hidden): Linear(in_features=1, out_features=20, bias=True)\n",
      "  (predict): Linear(in_features=20, out_features=1, bias=True)\n",
      ")\n",
      "SGD (\n",
      "Parameter Group 0\n",
      "    dampening: 0\n",
      "    foreach: None\n",
      "    lr: 0.2\n",
      "    maximize: False\n",
      "    momentum: 0\n",
      "    nesterov: False\n",
      "    weight_decay: 0\n",
      ")\n",
      "MSELoss()\n"
     ]
    },
    {
     "data": {
      "image/png": "[encoded data removed]",
      "text/plain": [
       "<Figure size 640x480 with 1 Axes>"
      ]
     },
     "metadata": {},
     "output_type": "display_data"
    },
    {
     "data": {
      "image/png": "[encoded data removed]",
      "text/plain": [
       "<Figure size 640x480 with 1 Axes>"
      ]
     },
     "metadata": {},
     "output_type": "display_data"
    },
    {
     "data": {
      "text/plain": [
       "<contextlib.ExitStack at 0x7ff9f0f1e0a0>"
      ]
     },
     "execution_count": 1,
     "metadata": {},
     "output_type": "execute_result"
    }
   ],
   "source": [
    "import torch\n",
    "import pandas as pd\n",
    "import numpy as np\n",
    "import matplotlib.pyplot as plt\n",
    "from torch.autograd import Variable\n",
    "import torch.nn.functional as F\n",
    "# %matplotlib inline\n",
    "\n",
    "torch.__version__\n",
    "df = pd.read_csv(\"./mtcars.csv\")\n",
    "df.head()\n",
    "torch.manual_seed(1234)\n",
    "x = torch.unsqueeze(torch.from_numpy(np.array(df.qsec)), dim=1)\n",
    "y = torch.unsqueeze(torch.from_numpy(np.array(df.mpg)), dim=1)\n",
    "\n",
    "class Net(torch.nn.Module):\n",
    "    def __init__(self, n_feature, n_hidden, n_output):\n",
    "        super(Net, self).__init__()\n",
    "        self.hidden = torch.nn.Linear(n_feature, n_hidden)  # hidden layer\n",
    "        self.predict = torch.nn.Linear(n_hidden, n_output)  # output layer\n",
    "    def forward(self, x):\n",
    "        x = F.relu(self.hidden(x))  # activation function for hidden layer\n",
    "        x = self.predict(x)  # linear output\n",
    "        return x\n",
    "        \n",
    "net = Net(n_feature=1, n_hidden=20, n_output=1)\n",
    "net.double()\n",
    "print(net)  # Neural network architecture\n",
    "optimizer = torch.optim.SGD(net.parameters(), lr=0.2)\n",
    "loss_func = torch.nn.MSELoss()  # this is for regression mean squared loss.\n",
    "print(optimizer)\n",
    "print(loss_func)\n",
    "# turn the interactive mode on\n",
    "# plt.ion()\n",
    "# plt.show()\n",
    "\n",
    "for t in range(100):\n",
    "    prediction = net(x)  # input x and predict based on x\n",
    "    loss = loss_func(prediction, y)  # must be (1. nn output, 2. target)\n",
    "    optimizer.zero_grad()  # clear gradients for next train\n",
    "    loss.backward()  # backpropagation, compute gradients\n",
    "    optimizer.step()  # apply gradients\n",
    "    if t % 50 == 0:\n",
    "        # plot and show learning process\n",
    "        plt.cla()\n",
    "        plt.scatter(x.data.numpy(), y.data.numpy())\n",
    "        plt.plot(x.data.numpy(), prediction.data.numpy(), 'g-', lw=3)\n",
    "        plt.text(0.5, 0, 'loss=% .4f' % loss.data.numpy())\n",
    "        plt.show()\n",
    "plt.ioff()\n"
   ]
  }
 ],
 "metadata": {
  "kernelspec": {
   "display_name": "Python 3.8.13 64-bit ('3.8.13')",
   "language": "python",
   "name": "python3"
  },
  "language_info": {
   "codemirror_mode": {
    "name": "ipython",
    "version": 3
   },
   "file_extension": ".py",
   "mimetype": "text/x-python",
   "name": "python",
   "nbconvert_exporter": "python",
   "pygments_lexer": "ipython3",
   "version": "3.8.13"
  },
  "orig_nbformat": 4,
  "vscode": {
   "interpreter": {
    "hash": "110cc1dee26208153f2972f08a2ad52b6a56238dc66d48e87fb757ef2996db56"
   }
  }
 },
 "nbformat": 4,
 "nbformat_minor": 2
}
