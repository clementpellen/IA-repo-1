{
 "cells": [
  {
   "cell_type": "code",
   "execution_count": 1,
   "metadata": {},
   "outputs": [],
   "source": [
    "# libraries dependencies\n",
    "import pandas as pd\n",
    "import numpy as np \n",
    "import math\n",
    "import matplotlib.pyplot as plt\n",
    "\n",
    "\n",
    "I=71  #Inputs \n",
    "J=3   #outputs\n",
    "N=2   #features \n",
    "K=4   #Number of hidden Neurons\n",
    "a=0.0001 #learning rate\n"
   ]
  },
  {
   "cell_type": "code",
   "execution_count": 2,
   "metadata": {},
   "outputs": [
    {
     "name": "stdout",
     "output_type": "stream",
     "text": [
      "[[1.9643 4.5957 1.    ]\n",
      " [2.2753 3.8589 1.    ]\n",
      " [2.9781 4.5651 1.    ]\n",
      " [2.932  3.5519 1.    ]\n",
      " [3.5772 2.856  1.    ]\n",
      " [4.015  3.1937 1.    ]\n",
      " [3.3814 3.4291 1.    ]\n",
      " [3.9113 4.1761 1.    ]\n",
      " [2.7822 4.0431 1.    ]\n",
      " [2.5518 4.6162 1.    ]\n",
      " [3.3698 3.9101 1.    ]\n",
      " [3.1048 3.0709 1.    ]\n",
      " [1.9182 4.0534 1.    ]\n",
      " [2.2638 4.3706 1.    ]\n",
      " [2.6555 3.5008 1.    ]\n",
      " [3.1855 4.2888 1.    ]\n",
      " [3.6579 3.8692 1.    ]\n",
      " [3.9113 3.4291 1.    ]\n",
      " [3.6002 3.1221 1.    ]\n",
      " [3.0357 3.3165 1.    ]\n",
      " [1.5841 3.3575 0.    ]\n",
      " [2.0103 3.2039 0.    ]\n",
      " [1.9527 2.7843 0.    ]\n",
      " [2.2753 2.7127 0.    ]\n",
      " [2.3099 2.9584 0.    ]\n",
      " [2.8283 2.6309 0.    ]\n",
      " [3.0473 2.2931 0.    ]\n",
      " [2.4827 2.0373 0.    ]\n",
      " [2.5057 2.3853 0.    ]\n",
      " [1.8721 2.0577 0.    ]\n",
      " [2.0103 2.3546 0.    ]\n",
      " [1.2269 2.3239 0.    ]\n",
      " [1.8951 2.9174 0.    ]\n",
      " [1.561  3.0709 0.    ]\n",
      " [1.5495 2.6923 0.    ]\n",
      " [1.6878 2.4057 0.    ]\n",
      " [1.4919 2.0271 0.    ]\n",
      " [0.962  2.682  0.    ]\n",
      " [1.1693 2.9276 0.    ]\n",
      " [0.8122 2.9992 0.    ]\n",
      " [0.9735 3.3881 0.    ]\n",
      " [1.25   3.1937 0.    ]\n",
      " [1.3191 3.5109 0.    ]\n",
      " [2.2292 2.201  0.    ]\n",
      " [2.4482 2.6411 0.    ]\n",
      " [2.7938 1.9656 0.    ]\n",
      " [2.0909 1.6177 0.    ]\n",
      " [2.5403 2.8867 0.    ]\n",
      " [0.9044 3.0198 0.    ]\n",
      " [0.7661 2.5899 0.    ]\n",
      " [0.0864 4.1045 1.    ]\n",
      " [4.6236 2.211  2.    ]\n",
      " [4.2382 1.6094 2.    ]\n",
      " [5.2964 1.5612 2.    ]\n",
      " [3.9732 1.2429 2.    ]\n",
      " [4.4475 1.3257 2.    ]\n",
      " [3.6365 2.1778 2.    ]\n",
      " [5.2574 1.5792 2.    ]\n",
      " [4.6737 1.8184 2.    ]\n",
      " [3.7154 1.6521 2.    ]\n",
      " [5.0482 1.8197 2.    ]\n",
      " [3.9196 1.4526 2.    ]\n",
      " [4.5886 1.087  2.    ]\n",
      " [5.0048 1.3946 2.    ]\n",
      " [5.2928 2.1816 2.    ]\n",
      " [3.7808 1.2195 2.    ]\n",
      " [4.7483 0.7251 2.    ]\n",
      " [4.2916 1.0857 2.    ]\n",
      " [4.7126 0.864  2.    ]\n",
      " [4.1005 1.0058 2.    ]\n",
      " [3.9601 1.4057 2.    ]]\n"
     ]
    }
   ],
   "source": [
    "dataset=np.loadtxt(\"data_ffnn_3classes.txt\")\n",
    "dataset=np.array(dataset)\n",
    "X = dataset[:, [0, 1]]\n",
    "Y=dataset[:,2]\n",
    "#print(X.shape)\n",
    "print(dataset)\n"
   ]
  },
  {
   "cell_type": "code",
   "execution_count": 3,
   "metadata": {},
   "outputs": [
    {
     "name": "stdout",
     "output_type": "stream",
     "text": [
      "[[1.     1.9643 4.5957]\n",
      " [1.     2.2753 3.8589]\n",
      " [1.     2.9781 4.5651]\n",
      " [1.     2.932  3.5519]\n",
      " [1.     3.5772 2.856 ]]\n"
     ]
    }
   ],
   "source": [
    "bias  = np.ones((71,1))\n",
    "Xbar = np.concatenate((bias, X), axis=1)\n",
    "# Xbar.shape\n",
    "print(Xbar[0:5])"
   ]
  },
  {
   "cell_type": "code",
   "execution_count": 4,
   "metadata": {},
   "outputs": [
    {
     "name": "stdout",
     "output_type": "stream",
     "text": [
      "[[0.11291462 0.84541889 0.81573355 0.97678427]\n",
      " [0.15307934 0.39975823 0.26450867 0.90583909]\n",
      " [0.86582098 0.06020407 0.62509695 0.20305477]]\n"
     ]
    }
   ],
   "source": [
    "V=np.random.rand(2+1,4)  #aleatoire a revoir entre -1 et 1  # dimension(N+1,K)\n",
    "# V.shape\n",
    "print(V)"
   ]
  },
  {
   "cell_type": "code",
   "execution_count": 5,
   "metadata": {},
   "outputs": [
    {
     "name": "stdout",
     "output_type": "stream",
     "text": [
      "[[4.39266184 1.90734382 4.20806598 3.68930282]\n",
      " [3.80233262 1.98731027 3.82975675 3.82140802]\n",
      " [4.52135955 2.31077647 4.45709691 4.60142901]\n",
      " [3.63705278 2.23134885 3.81155483 4.35393474]\n",
      " [3.13329475 2.44737685 3.54721086 4.79707631]]\n"
     ]
    }
   ],
   "source": [
    "# Xbarbar.shape\n",
    "Xbarbar = np.dot(Xbar, V)\n",
    "print(Xbarbar[0:5])\n"
   ]
  },
  {
   "cell_type": "code",
   "execution_count": 6,
   "metadata": {},
   "outputs": [],
   "source": [
    "def sigmoid(z):\n",
    "    return 1/(1+np.exp(-z))\n"
   ]
  },
  {
   "cell_type": "code",
   "execution_count": 7,
   "metadata": {},
   "outputs": [
    {
     "name": "stdout",
     "output_type": "stream",
     "text": [
      "[[0.98778333 0.87072045 0.98534292 0.97561983]\n",
      " [0.9781686  0.87945829 0.97874662 0.97857225]\n",
      " [0.98924275 0.90976562 0.98853695 0.99006227]\n",
      " [0.97434565 0.90302954 0.97836467 0.98730705]\n",
      " [0.95824542 0.92036941 0.97200162 0.99181372]\n",
      " [0.97047936 0.93356099 0.97964987 0.99484297]\n",
      " [0.97339068 0.91710195 0.97923826 0.99130336]\n",
      " [0.9869703  0.9346498  0.98857854 0.99535713]\n",
      " [0.98269686 0.90034262 0.98335694 0.9868485 ]\n",
      " [0.98901681 0.8950538  0.98758405 0.98559466]\n",
      " [0.98226303 0.91893232 0.98449958 0.99202349]\n",
      " [0.96256678 0.90648638 0.97225575 0.98802391]\n",
      " [0.98046981 0.86486116 0.9793036  0.97173413]\n",
      " [0.98584753 0.88220924 0.98442786 0.98044727]\n",
      " [0.97209053 0.89261542 0.97602498 0.98358638]\n",
      " [0.9867952  0.91506058 0.9871216  0.99127843]\n",
      " [0.9824138  0.92694192 0.98525367 0.99379338]\n",
      " [0.97541294 0.93184862 0.98190442 0.99460078]\n",
      " [0.96666392 0.92219791 0.97633094 0.99239974]\n",
      " [0.96920467 0.9053925  0.97568002 0.98787242]\n",
      " [0.9631162  0.8430119  0.9655605  0.95662301]\n",
      " [0.9606326  0.86317807 0.96611215 0.96918219]\n",
      " [0.94388165 0.85737456 0.95575237 0.96480363]\n",
      " [0.94321    0.87194923 0.95743684 0.97310801]\n",
      " [0.95382129 0.8751113  0.96359654 0.97515401]\n",
      " [0.94394621 0.89420634 0.96114957 0.98325857]\n",
      " [0.92856201 0.90039813 0.95500566 0.98526627]\n",
      " [0.90524421 0.87659272 0.9396836  0.97440411]\n",
      " [0.92835749 0.87981695 0.95117969 0.97658973]\n",
      " [0.89853888 0.84783082 0.93068001 0.95649632]\n",
      " [0.92123976 0.85702648 0.94371141 0.96359291]\n",
      " [0.90993234 0.81393592 0.93040466 0.92824494]\n",
      " [0.94925967 0.85552886 0.95853919 0.96393955]\n",
      " [0.95305613 0.83947435 0.95883939 0.95321866]\n",
      " [0.9359058  0.83574888 0.9482669  0.94916832]\n",
      " [0.92086713 0.8409032  0.9408088  0.95230907]\n",
      " [0.89055273 0.82690623 0.9225485  0.93933572]\n",
      " [0.92971429 0.8008242  0.93972676 0.91627619]\n",
      " [0.94410106 0.81594459 0.95050197 0.93279546]\n",
      " [0.94448654 0.79423858 0.94811068 0.91064278]\n",
      " [0.96066176 0.8082317  0.96049888 0.92734399]\n",
      " [0.95561427 0.82308505 0.95862176 0.94033997]\n",
      " [0.96625686 0.82978587 0.96640805 0.94707897]\n",
      " [0.91371249 0.86635053 0.94165222 0.96902183]\n",
      " [0.94127685 0.87901251 0.95747662 0.97658643]\n",
      " [0.9039969  0.88900331 0.94177263 0.98028845]\n",
      " [0.86219322 0.855532   0.91529052 0.96080736]\n",
      " [0.95262594 0.8843941  0.96415791 0.97944829]\n",
      " [0.94613813 0.80039493 0.94991367 0.91752692]\n",
      " [0.92219697 0.78711063 0.93322467 0.8999473 ]\n",
      " [0.97539524 0.75529696 0.96783857 0.86858293]\n",
      " [0.93906188 0.94410974 0.96834846 0.99636671]\n",
      " [0.89614884 0.93317819 0.94992234 0.99419208]\n",
      " [0.9068194  0.95507043 0.96055404 0.99774305]\n",
      " [0.85781487 0.92474015 0.9336162  0.99206292]\n",
      " [0.87452275 0.93721262 0.94379095 0.99490655]\n",
      " [0.92792024 0.91910528 0.95847132 0.99110279]\n",
      " [0.90762865 0.9544438  0.96058949 0.99767059]\n",
      " [0.91703832 0.94391904 0.96040469 0.99624026]\n",
      " [0.89207257 0.91909722 0.94433933 0.99078628]\n",
      " [0.92137839 0.95134081 0.9640327  0.99731969]\n",
      " [0.87767726 0.92412525 0.9405046  0.99201575]\n",
      " [0.85276849 0.9396412  0.93755202 0.99529324]\n",
      " [0.88958608 0.94931398 0.95308232 0.99696198]\n",
      " [0.94332127 0.95658649 0.97286541 0.99800317]\n",
      " [0.85164297 0.91910465 0.92943835 0.9905215 ]\n",
      " [0.8126905  0.94198266 0.92587304 0.99561519]\n",
      " [0.84682224 0.93254048 0.93274037 0.99384759]\n",
      " [0.82954212 0.94165888 0.93101208 0.99559711]\n",
      " [0.83361388 0.92724909 0.92615504 0.99257471]\n",
      " [0.87393503 0.92505719 0.93945501 0.99222805]]\n"
     ]
    }
   ],
   "source": [
    "F= sigmoid(Xbarbar)\n",
    "print(F)"
   ]
  },
  {
   "cell_type": "code",
   "execution_count": 8,
   "metadata": {},
   "outputs": [
    {
     "name": "stdout",
     "output_type": "stream",
     "text": [
      "[[1.         0.98778333 0.87072045 0.98534292 0.97561983]\n",
      " [1.         0.9781686  0.87945829 0.97874662 0.97857225]\n",
      " [1.         0.98924275 0.90976562 0.98853695 0.99006227]\n",
      " [1.         0.97434565 0.90302954 0.97836467 0.98730705]\n",
      " [1.         0.95824542 0.92036941 0.97200162 0.99181372]\n",
      " [1.         0.97047936 0.93356099 0.97964987 0.99484297]\n",
      " [1.         0.97339068 0.91710195 0.97923826 0.99130336]\n",
      " [1.         0.9869703  0.9346498  0.98857854 0.99535713]\n",
      " [1.         0.98269686 0.90034262 0.98335694 0.9868485 ]\n",
      " [1.         0.98901681 0.8950538  0.98758405 0.98559466]\n",
      " [1.         0.98226303 0.91893232 0.98449958 0.99202349]\n",
      " [1.         0.96256678 0.90648638 0.97225575 0.98802391]\n",
      " [1.         0.98046981 0.86486116 0.9793036  0.97173413]\n",
      " [1.         0.98584753 0.88220924 0.98442786 0.98044727]\n",
      " [1.         0.97209053 0.89261542 0.97602498 0.98358638]\n",
      " [1.         0.9867952  0.91506058 0.9871216  0.99127843]\n",
      " [1.         0.9824138  0.92694192 0.98525367 0.99379338]\n",
      " [1.         0.97541294 0.93184862 0.98190442 0.99460078]\n",
      " [1.         0.96666392 0.92219791 0.97633094 0.99239974]\n",
      " [1.         0.96920467 0.9053925  0.97568002 0.98787242]\n",
      " [1.         0.9631162  0.8430119  0.9655605  0.95662301]\n",
      " [1.         0.9606326  0.86317807 0.96611215 0.96918219]\n",
      " [1.         0.94388165 0.85737456 0.95575237 0.96480363]\n",
      " [1.         0.94321    0.87194923 0.95743684 0.97310801]\n",
      " [1.         0.95382129 0.8751113  0.96359654 0.97515401]\n",
      " [1.         0.94394621 0.89420634 0.96114957 0.98325857]\n",
      " [1.         0.92856201 0.90039813 0.95500566 0.98526627]\n",
      " [1.         0.90524421 0.87659272 0.9396836  0.97440411]\n",
      " [1.         0.92835749 0.87981695 0.95117969 0.97658973]\n",
      " [1.         0.89853888 0.84783082 0.93068001 0.95649632]\n",
      " [1.         0.92123976 0.85702648 0.94371141 0.96359291]\n",
      " [1.         0.90993234 0.81393592 0.93040466 0.92824494]\n",
      " [1.         0.94925967 0.85552886 0.95853919 0.96393955]\n",
      " [1.         0.95305613 0.83947435 0.95883939 0.95321866]\n",
      " [1.         0.9359058  0.83574888 0.9482669  0.94916832]\n",
      " [1.         0.92086713 0.8409032  0.9408088  0.95230907]\n",
      " [1.         0.89055273 0.82690623 0.9225485  0.93933572]\n",
      " [1.         0.92971429 0.8008242  0.93972676 0.91627619]\n",
      " [1.         0.94410106 0.81594459 0.95050197 0.93279546]\n",
      " [1.         0.94448654 0.79423858 0.94811068 0.91064278]\n",
      " [1.         0.96066176 0.8082317  0.96049888 0.92734399]\n",
      " [1.         0.95561427 0.82308505 0.95862176 0.94033997]\n",
      " [1.         0.96625686 0.82978587 0.96640805 0.94707897]\n",
      " [1.         0.91371249 0.86635053 0.94165222 0.96902183]\n",
      " [1.         0.94127685 0.87901251 0.95747662 0.97658643]\n",
      " [1.         0.9039969  0.88900331 0.94177263 0.98028845]\n",
      " [1.         0.86219322 0.855532   0.91529052 0.96080736]\n",
      " [1.         0.95262594 0.8843941  0.96415791 0.97944829]\n",
      " [1.         0.94613813 0.80039493 0.94991367 0.91752692]\n",
      " [1.         0.92219697 0.78711063 0.93322467 0.8999473 ]\n",
      " [1.         0.97539524 0.75529696 0.96783857 0.86858293]\n",
      " [1.         0.93906188 0.94410974 0.96834846 0.99636671]\n",
      " [1.         0.89614884 0.93317819 0.94992234 0.99419208]\n",
      " [1.         0.9068194  0.95507043 0.96055404 0.99774305]\n",
      " [1.         0.85781487 0.92474015 0.9336162  0.99206292]\n",
      " [1.         0.87452275 0.93721262 0.94379095 0.99490655]\n",
      " [1.         0.92792024 0.91910528 0.95847132 0.99110279]\n",
      " [1.         0.90762865 0.9544438  0.96058949 0.99767059]\n",
      " [1.         0.91703832 0.94391904 0.96040469 0.99624026]\n",
      " [1.         0.89207257 0.91909722 0.94433933 0.99078628]\n",
      " [1.         0.92137839 0.95134081 0.9640327  0.99731969]\n",
      " [1.         0.87767726 0.92412525 0.9405046  0.99201575]\n",
      " [1.         0.85276849 0.9396412  0.93755202 0.99529324]\n",
      " [1.         0.88958608 0.94931398 0.95308232 0.99696198]\n",
      " [1.         0.94332127 0.95658649 0.97286541 0.99800317]\n",
      " [1.         0.85164297 0.91910465 0.92943835 0.9905215 ]\n",
      " [1.         0.8126905  0.94198266 0.92587304 0.99561519]\n",
      " [1.         0.84682224 0.93254048 0.93274037 0.99384759]\n",
      " [1.         0.82954212 0.94165888 0.93101208 0.99559711]\n",
      " [1.         0.83361388 0.92724909 0.92615504 0.99257471]\n",
      " [1.         0.87393503 0.92505719 0.93945501 0.99222805]]\n"
     ]
    }
   ],
   "source": [
    "bias2 = np.ones((71, 1))\n",
    "Fbar = np.concatenate((bias2, F), axis=1)\n",
    "Fbar.shape #=> 71,5\n",
    "print(Fbar)\n"
   ]
  },
  {
   "cell_type": "code",
   "execution_count": 9,
   "metadata": {},
   "outputs": [
    {
     "data": {
      "text/plain": [
       "array([[0.37082778, 0.30721062, 0.54801964],\n",
       "       [0.38526134, 0.29927707, 0.33386845],\n",
       "       [0.49789529, 0.57350601, 0.32559982],\n",
       "       [0.13883318, 0.30240075, 0.16448163],\n",
       "       [0.17557494, 0.08316357, 0.86722693]])"
      ]
     },
     "execution_count": 9,
     "metadata": {},
     "output_type": "execute_result"
    }
   ],
   "source": [
    "W = np.random.rand(4+1, 3)  # 3 neuron output 5,3\n",
    "W\n"
   ]
  },
  {
   "cell_type": "code",
   "execution_count": 10,
   "metadata": {},
   "outputs": [
    {
     "name": "stdout",
     "output_type": "stream",
     "text": [
      "[[1.49300279 1.4812994  2.16947035]\n",
      " [1.49325173 1.48168395 2.17058079]\n",
      " [1.51598463 1.50629578 2.19572094]\n",
      " [1.50499549 1.494669   2.18449145]\n",
      " [1.50733399 1.49824569 2.18762365]\n",
      " [1.52020897 1.51203724 2.1998884 ]\n",
      " [1.5124571  1.50305033 2.19236398]\n",
      " [1.52843428 1.52033983 2.20766322]\n",
      " [1.50748767 1.49709889 2.18682826]\n",
      " [1.50765594 1.49713114 2.18682417]\n",
      " [1.51764349 1.50840626 2.19741206]\n",
      " [1.50145644 1.49133865 2.18130128]\n",
      " [1.48574718 1.47360086 2.16075767]\n",
      " [1.49869776 1.48743371 2.17660078]\n",
      " [1.49796346 1.48700459 2.1767362 ]\n",
      " [1.51769505 1.50827311 2.1974497 ]\n",
      " [1.52210496 1.51342017 2.20172925]\n",
      " [1.5215276  1.51319333 2.20113882]\n",
      " [1.51219166 1.50317173 2.19224999]\n",
      " [1.50391792 1.49372077 2.18359314]\n",
      " [1.46362173 1.45046402 2.13248448]\n",
      " [1.47498719 1.46249744 2.14920378]\n",
      " [1.46343712 1.45065897 2.13622035]\n",
      " [1.47212692 1.46001663 2.14822046]\n",
      " [1.47900381 1.46703867 2.15558031]\n",
      " [1.48578989 1.47496844 2.16512669]\n",
      " [1.48244535 1.47222437 2.16273701]\n",
      " [1.45757496 1.44605661 2.13526074]\n",
      " [1.47006472 1.45848119 2.14781366]\n",
      " [1.43627709 1.42334276 2.10664612]\n",
      " [1.45265651 1.43994127 2.12551712]\n",
      " [1.41879197 1.40488088 2.07486821]\n",
      " [1.46482529 1.45198085 2.13712397]\n",
      " [1.45645381 1.44310887 2.12391607]\n",
      " [1.4458126  1.43230562 2.11172556]\n",
      " [1.44210111 1.4287668  2.10987989]\n",
      " [1.41864018 1.40506621 2.08094714]\n",
      " [1.41907774 1.40510517 2.0683573 ]\n",
      " [1.4365451  1.42271466 2.09418207]\n",
      " [1.42166484 1.40781608 2.06763857]\n",
      " [1.43951585 1.42581722 2.0941165 ]\n",
      " [1.44698782 1.43333826 2.10822926]\n",
      " [1.4566885  1.44328132 2.12108921]\n",
      " [1.45506624 1.44286471 2.13040931]\n",
      " [1.47551517 1.46379022 2.15289797]\n",
      " [1.46459676 1.45392195 2.14433184]\n",
      " [1.42472923 1.41258674 2.09822632]\n",
      " [1.48399706 1.47253155 2.16202015]\n",
      " [1.42682535 1.4129588  2.07646116]\n",
      " [1.40558403 1.39166638 2.04615205]\n",
      " [1.40953815 1.39720097 2.03204807]\n",
      " [1.51205572 1.50539364 2.19229631]\n",
      " [1.48714025 1.48052852 2.16949304]\n",
      " [1.50425075 1.49978765 2.18501192]\n",
      " [1.46553273 1.45910871 2.14941858]\n",
      " [1.48009149 1.47457538 2.16319749]\n",
      " [1.49301819 1.48429438 2.17424541]\n",
      " [1.50424272 1.49967516 2.18502107]\n",
      " [1.50235089 1.4962804  2.18346499]\n",
      " [1.4771859  1.46926152 2.15967544]\n",
      " [1.50841143 1.50302261 2.18886338]\n",
      " [1.47382685 1.46677956 2.15694191]\n",
      " [1.47212131 1.46760313 2.15603433]\n",
      " [1.49357085 1.48900434 2.17547764]\n",
      " [1.52082324 1.51532589 2.19994296]\n",
      " [1.4594984  1.45263804 2.14349913]\n",
      " [1.45628171 1.45344659 2.14177416]\n",
      " [1.4653732  1.46017598 2.14969194]\n",
      " [1.46332307 1.45985675 2.14812455]\n",
      " [1.45651222 1.4510911  2.14137216]\n",
      " [1.47274068 1.46589433 2.15600741]]\n"
     ]
    }
   ],
   "source": [
    "Fbarbar=np.dot(Fbar,W)  #(71,5)*(5,3)\n",
    "Fbarbar.shape\n",
    "print(Fbarbar)\n"
   ]
  },
  {
   "cell_type": "code",
   "execution_count": 15,
   "metadata": {},
   "outputs": [
    {
     "data": {
      "text/plain": [
       "(71, 3)"
      ]
     },
     "execution_count": 15,
     "metadata": {},
     "output_type": "execute_result"
    }
   ],
   "source": [
    "G = sigmoid(Fbarbar) #=Y\n",
    "G.shape\n",
    "# print(G)\n",
    "\n"
   ]
  },
  {
   "cell_type": "code",
   "execution_count": 73,
   "metadata": {},
   "outputs": [
    {
     "data": {
      "text/plain": [
       "array([[0, 1, 0],\n",
       "       [0, 1, 0],\n",
       "       [0, 1, 0],\n",
       "       [0, 1, 0],\n",
       "       [0, 1, 0],\n",
       "       [0, 1, 0],\n",
       "       [0, 1, 0],\n",
       "       [0, 1, 0],\n",
       "       [0, 1, 0],\n",
       "       [0, 1, 0],\n",
       "       [0, 1, 0],\n",
       "       [0, 1, 0],\n",
       "       [0, 1, 0],\n",
       "       [0, 1, 0],\n",
       "       [0, 1, 0],\n",
       "       [0, 1, 0],\n",
       "       [0, 1, 0],\n",
       "       [0, 1, 0],\n",
       "       [0, 1, 0],\n",
       "       [0, 1, 0],\n",
       "       [1, 0, 0],\n",
       "       [1, 0, 0],\n",
       "       [1, 0, 0],\n",
       "       [1, 0, 0],\n",
       "       [1, 0, 0],\n",
       "       [1, 0, 0],\n",
       "       [1, 0, 0],\n",
       "       [1, 0, 0],\n",
       "       [1, 0, 0],\n",
       "       [1, 0, 0],\n",
       "       [1, 0, 0],\n",
       "       [1, 0, 0],\n",
       "       [1, 0, 0],\n",
       "       [1, 0, 0],\n",
       "       [1, 0, 0],\n",
       "       [1, 0, 0],\n",
       "       [1, 0, 0],\n",
       "       [1, 0, 0],\n",
       "       [1, 0, 0],\n",
       "       [1, 0, 0],\n",
       "       [1, 0, 0],\n",
       "       [1, 0, 0],\n",
       "       [1, 0, 0],\n",
       "       [1, 0, 0],\n",
       "       [1, 0, 0],\n",
       "       [1, 0, 0],\n",
       "       [1, 0, 0],\n",
       "       [1, 0, 0],\n",
       "       [1, 0, 0],\n",
       "       [1, 0, 0],\n",
       "       [0, 1, 0],\n",
       "       [0, 0, 1],\n",
       "       [0, 0, 1],\n",
       "       [0, 0, 1],\n",
       "       [0, 0, 1],\n",
       "       [0, 0, 1],\n",
       "       [0, 0, 1],\n",
       "       [0, 0, 1],\n",
       "       [0, 0, 1],\n",
       "       [0, 0, 1],\n",
       "       [0, 0, 1],\n",
       "       [0, 0, 1],\n",
       "       [0, 0, 1],\n",
       "       [0, 0, 1],\n",
       "       [0, 0, 1],\n",
       "       [0, 0, 1],\n",
       "       [0, 0, 1],\n",
       "       [0, 0, 1],\n",
       "       [0, 0, 1],\n",
       "       [0, 0, 1],\n",
       "       [0, 0, 1]])"
      ]
     },
     "execution_count": 73,
     "metadata": {},
     "output_type": "execute_result"
    }
   ],
   "source": [
    "yredefined =np.array(\n",
    "    [[1 if val == 0 else 0, 1 if val == 1 else 0, 1 if val == 2 else 0] for val in Y])   #construire grace a Y yredefined qui correspond à une matrice avec 1 qui est la categorie de classification definie\n",
    "    \n",
    "yredefined\n",
    "\n"
   ]
  },
  {
   "cell_type": "code",
   "execution_count": 74,
   "metadata": {},
   "outputs": [
    {
     "name": "stdout",
     "output_type": "stream",
     "text": [
      "[[0.90660363 0.9211058  0.94104236]\n",
      " [0.9051223  0.91967183 0.93938642]\n",
      " [0.90797273 0.922514   0.94312549]\n",
      " [0.90539252 0.91999279 0.94005514]\n",
      " [0.90448347 0.91914317 0.93921577]\n",
      " [0.90607895 0.92072757 0.94123638]\n",
      " [0.90577051 0.92039314 0.94068388]\n",
      " [0.90823684 0.92281045 0.94366985]\n",
      " [0.9064649  0.92103408 0.94128135]\n",
      " [0.90753116 0.92205982 0.94245415]\n",
      " [0.90697107 0.92156299 0.94208993]\n",
      " [0.90429824 0.91892772 0.93880086]\n",
      " [0.90501973 0.91953427 0.9390268 ]\n",
      " [0.90650429 0.92103383 0.94108597]\n",
      " [0.9047675  0.91935495 0.93915885]\n",
      " [0.90761523 0.92217853 0.94277879]\n",
      " [0.9072518  0.92184949 0.94249614]\n",
      " [0.90652828 0.92115949 0.94172992]\n",
      " [0.9052765  0.91992263 0.94017183]\n",
      " [0.90490061 0.9195164  0.93950411]\n",
      " [0.90190634 0.91637063 0.93468303]\n",
      " [0.90243918 0.9169671  0.93577803]\n",
      " [0.90067439 0.91518079 0.9334131 ]\n",
      " [0.90127664 0.91583272 0.93448498]\n",
      " [0.90228011 0.91684446 0.93580733]\n",
      " [0.90231209 0.91693264 0.93619192]\n",
      " [0.90159803 0.91624158 0.93541948]\n",
      " [0.8990726  0.91363678 0.93178984]\n",
      " [0.90060092 0.915182   0.93379128]\n",
      " [0.8970764  0.91150702 0.92852191]\n",
      " [0.89899985 0.91349222 0.93125132]\n",
      " [0.89581206 0.91007196 0.92587007]\n",
      " [0.90104834 0.91555028 0.93385195]\n",
      " [0.90069729 0.91514253 0.93303795]\n",
      " [0.89899509 0.9134079  0.93072149]\n",
      " [0.89812503 0.91254492 0.92971253]\n",
      " [0.89531808 0.90962291 0.92560568]\n",
      " [0.89662318 0.91084689 0.92656178]\n",
      " [0.89873532 0.91306781 0.92985332]\n",
      " [0.89767362 0.91189588 0.9277921 ]\n",
      " [0.9001604  0.91448738 0.93155453]\n",
      " [0.90023658 0.91461896 0.93203724]\n",
      " [0.90175754 0.91617775 0.93419616]\n",
      " [0.899012   0.91353869 0.93148383]\n",
      " [0.90144739 0.91602579 0.93483905]\n",
      " [0.89967291 0.91428319 0.93280862]\n",
      " [0.89561066 0.91004714 0.92681679]\n",
      " [0.90256167 0.91715205 0.93632785]\n",
      " [0.89816031 0.91241923 0.9286382 ]\n",
      " [0.89516586 0.90928671 0.92412017]\n",
      " [0.9001651  0.91429107 0.93007635]\n",
      " [0.90430676 0.91902696 0.9393128 ]\n",
      " [0.90172147 0.91646022 0.93609483]\n",
      " [0.90345471 0.91822259 0.93845152]\n",
      " [0.89978634 0.91451593 0.93360483]\n",
      " [0.90114805 0.91590563 0.93546085]\n",
      " [0.90246004 0.91714971 0.93677689]\n",
      " [0.90344643 0.91821286 0.93843405]\n",
      " [0.90321236 0.91795634 0.93802496]\n",
      " [0.90075741 0.91546335 0.93470349]\n",
      " [0.90383154 0.91858096 0.93884655]\n",
      " [0.90047158 0.91519517 0.93443546]\n",
      " [0.90057785 0.91534908 0.93480531]\n",
      " [0.90244322 0.91721649 0.93718356]\n",
      " [0.90521102 0.91993553 0.94050259]\n",
      " [0.8992156  0.91392837 0.93280527]\n",
      " [0.89956036 0.91434826 0.93360074]\n",
      " [0.89991916 0.91467341 0.93389378]\n",
      " [0.900013   0.91479606 0.93414817]\n",
      " [0.89914689 0.91388756 0.93285961]\n",
      " [0.90038616 0.91511327 0.93434594]]\n"
     ]
    }
   ],
   "source": [
    "def forward(V, W):\n",
    "    Xbarbar = np.dot(Xbar, V)\n",
    "    F = sigmoid(Xbarbar)\n",
    "    bias2 = np.ones((71, 1))\n",
    "    Fbar = np.concatenate((bias2, F), axis=1)\n",
    "    Fbarbar = np.dot(Fbar, W)\n",
    "    G = sigmoid(Fbarbar)\n",
    "    return F, G, Fbar\n",
    "\n",
    "F,G,Fbar= forward(V,W)\n",
    "print(G)\n"
   ]
  },
  {
   "cell_type": "code",
   "execution_count": 61,
   "metadata": {},
   "outputs": [
    {
     "data": {
      "text/plain": [
       "(71, 3)"
      ]
     },
     "execution_count": 61,
     "metadata": {},
     "output_type": "execute_result"
    }
   ],
   "source": [
    "G[0:5]\n",
    "G.shape\n"
   ]
  },
  {
   "cell_type": "code",
   "execution_count": 14,
   "metadata": {},
   "outputs": [],
   "source": [
    "def error(G,yredefined):\n",
    "    E=0\n",
    "    for i in range(G.shape[0]):\n",
    "        for j in range(G.shape[1]):\n",
    "            ypred=G[i][j]\n",
    "            # ypred=G[i].argmax()\n",
    "            E=E+(np.square(ypred-yredefined[i][j]))/2\n",
    "    return E"
   ]
  },
  {
   "cell_type": "code",
   "execution_count": 15,
   "metadata": {},
   "outputs": [],
   "source": [
    "def backward(G,Fbar,F):\n",
    "    dW = 0\n",
    "    dV = 0\n",
    "\n",
    "    for k in range(K+1):\n",
    "        for j in range(J):\n",
    "            for i in range(I):\n",
    "                dW += (G[i][j]-yredefined[i][j])*G[i][j]*(1-G[i][j])*Fbar[i][k]\n",
    "            W[k][j] = W[k][j]-a*dW\n",
    "\n",
    "    for k in range(K-1):\n",
    "        for j in range(J):\n",
    "            for i in range(I):\n",
    "                dV += (G[i][j]-yredefined[i][j])*G[i][j] *(1-G[i][j])*F[i][k]*(1-F[i][k])*W[k][j]\n",
    "        V[k][j] = V[k][j]-a*dV\n",
    "    return V,W\n",
    "\n",
    "  "
   ]
  },
  {
   "cell_type": "code",
   "execution_count": 16,
   "metadata": {},
   "outputs": [
    {
     "data": {
      "text/plain": [
       "<matplotlib.collections.PathCollection at 0x24245dcc550>"
      ]
     },
     "execution_count": 16,
     "metadata": {},
     "output_type": "execute_result"
    },
    {
     "data": {
      "image/png": "[encoded data removed]",
      "text/plain": [
       "<Figure size 432x288 with 1 Axes>"
      ]
     },
     "metadata": {
      "needs_background": "light"
     },
     "output_type": "display_data"
    }
   ],
   "source": [
    "plt.scatter(X[:, 0], X[:, 1], c=Y, cmap='viridis')"
   ]
  },
  {
   "cell_type": "code",
   "execution_count": 17,
   "metadata": {},
   "outputs": [],
   "source": [
    "# def sigmoid_derivative(z):\n",
    "#     return np.exp(-z)/((1+np.exp(-z))**2)\n"
   ]
  },
  {
   "cell_type": "code",
   "execution_count": 18,
   "metadata": {},
   "outputs": [],
   "source": [
    "# dW=0\n",
    "# for k in range(K+1):\n",
    "#     for j in range(J):\n",
    "#         for i in range(I):\n",
    "#             dW += (G[i][j]-yredefined[i][j])*G[i][j]*(1-G[i][j])*Fbar[i][k]\n",
    "#         W[k][j] = W[k][j]-a*dW\n",
    "    \n",
    "\n",
    "    "
   ]
  },
  {
   "cell_type": "code",
   "execution_count": 19,
   "metadata": {},
   "outputs": [],
   "source": [
    "# dV=0\n",
    "# for k in range(K-1):\n",
    "#     for j in range(J):\n",
    "#         for i in range(I):\n",
    "#             dV += (G[i][j]-yredefined[i][j])*G[i][j]*(1-G[i][j])*F[i][k]*(1-F[i][k])*W[j][k]\n",
    "#     V[k][j] = V[k][j]-a*dV\n",
    "\n",
    "\n"
   ]
  },
  {
   "cell_type": "code",
   "execution_count": 20,
   "metadata": {},
   "outputs": [
    {
     "data": {
      "text/plain": [
       "[<matplotlib.lines.Line2D at 0x24247f2a1f0>]"
      ]
     },
     "execution_count": 20,
     "metadata": {},
     "output_type": "execute_result"
    },
    {
     "data": {
      "image/png": "[encoded data removed]",
      "text/plain": [
       "<Figure size 432x288 with 1 Axes>"
      ]
     },
     "metadata": {
      "needs_background": "light"
     },
     "output_type": "display_data"
    }
   ],
   "source": [
    "errors=[]\n",
    "for itera in range(10000):  \n",
    "   # print(E)\n",
    "   F,G,Fbar= forward(V,W)\n",
    "   E= error(G,yredefined)\n",
    "   V,W=backward(G,Fbar,F)\n",
    "   errors.append(E)\n",
    "        \n",
    "   # print(E) \n",
    " \n",
    "plt.plot(errors)\n",
    "\n",
    "\n",
    "\n",
    "   \n",
    "\n",
    "\n",
    "\n",
    "   \n",
    "\n",
    "    \n",
    "    \n",
    "    "
   ]
  }
 ],
 "metadata": {
  "kernelspec": {
   "display_name": "Python 3.8.13 64-bit ('3.8.13')",
   "language": "python",
   "name": "python3"
  },
  "language_info": {
   "codemirror_mode": {
    "name": "ipython",
    "version": 3
   },
   "file_extension": ".py",
   "mimetype": "text/x-python",
   "name": "python",
   "nbconvert_exporter": "python",
   "pygments_lexer": "ipython3",
   "version": "3.8.13"
  },
  "orig_nbformat": 4,
  "vscode": {
   "interpreter": {
    "hash": "110cc1dee26208153f2972f08a2ad52b6a56238dc66d48e87fb757ef2996db56"
   }
  }
 },
 "nbformat": 4,
 "nbformat_minor": 2
}
