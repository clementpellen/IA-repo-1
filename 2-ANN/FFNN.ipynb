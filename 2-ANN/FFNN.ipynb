{
 "cells": [
  {
   "cell_type": "markdown",
   "metadata": {},
   "source": [
    "<h2>This code is a Feed Forward Neural Network (FFNN)</h2>"
   ]
  },
  {
   "cell_type": "code",
   "execution_count": 21,
   "metadata": {},
   "outputs": [],
   "source": [
    "# import libraries\n",
    "import numpy as np\n",
    "import pandas as pd\n",
    "import math\n",
    "import matplotlib.pyplot as plt\n",
    "\n",
    "# global variables declaration\n",
    "hidden_size = 4 #copilot conseille 10"
   ]
  },
  {
   "cell_type": "code",
   "execution_count": 22,
   "metadata": {},
   "outputs": [],
   "source": [
    "#download dataset\n",
    "dataset = np.loadtxt(\"data_ffnn_3classes.txt\")\n",
    "dataset = np.array(dataset)\n",
    "inputs = dataset[:, [0, 1]]\n",
    "outputs = dataset[:, 2]\n",
    "\n",
    "# inputs dimension : (71, 2)\n",
    "# outputs dimension : (71,)\n",
    "\n",
    "inputs_size = inputs.shape[0]\n",
    "features_size = inputs.shape[1]\n",
    "\n",
    "# outputs_size takes the number of classes\n",
    "outputs_size = len(np.unique(outputs))"
   ]
  },
  {
   "cell_type": "markdown",
   "metadata": {},
   "source": [
    "<h3>Build a Neuron</h3>"
   ]
  },
  {
   "cell_type": "code",
   "execution_count": 23,
   "metadata": {},
   "outputs": [],
   "source": [
    "def mapInputs(inputs):\n",
    "    bias = np.ones((inputs_size, 1))\n",
    "    inputs = np.concatenate((bias, inputs), axis=1)\n",
    "    return inputs"
   ]
  },
  {
   "cell_type": "code",
   "execution_count": 24,
   "metadata": {},
   "outputs": [],
   "source": [
    "def defineWeights(layer_size, next_layer_size):\n",
    "    return np.random.rand(layer_size + 1, next_layer_size)"
   ]
  },
  {
   "cell_type": "code",
   "execution_count": 29,
   "metadata": {},
   "outputs": [],
   "source": [
    "def buildNodes(inputs):\n",
    "    return np.dot(mapInputs(inputs), defineWeights(features_size, hidden_size))"
   ]
  },
  {
   "cell_type": "code",
   "execution_count": 32,
   "metadata": {},
   "outputs": [],
   "source": [
    "def sigmoid(x):\n",
    "    return 1 / (1 + np.exp(-x))"
   ]
  },
  {
   "cell_type": "code",
   "execution_count": 34,
   "metadata": {},
   "outputs": [],
   "source": [
    "def buildNeurons(inputs):\n",
    "    return sigmoid(buildNodes(inputs))"
   ]
  }
 ],
 "metadata": {
  "kernelspec": {
   "display_name": "Python 3.8.13 64-bit ('3.8.13')",
   "language": "python",
   "name": "python3"
  },
  "language_info": {
   "codemirror_mode": {
    "name": "ipython",
    "version": 3
   },
   "file_extension": ".py",
   "mimetype": "text/x-python",
   "name": "python",
   "nbconvert_exporter": "python",
   "pygments_lexer": "ipython3",
   "version": "3.8.13"
  },
  "orig_nbformat": 4,
  "vscode": {
   "interpreter": {
    "hash": "110cc1dee26208153f2972f08a2ad52b6a56238dc66d48e87fb757ef2996db56"
   }
  }
 },
 "nbformat": 4,
 "nbformat_minor": 2
}
