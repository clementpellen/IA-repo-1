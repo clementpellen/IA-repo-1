{
 "cells": [
  {
   "cell_type": "markdown",
   "metadata": {},
   "source": [
    "<h2>This code is a Feed Forward Neural Network (FFNN)</h2>"
   ]
  },
  {
   "cell_type": "code",
   "execution_count": 3,
   "metadata": {},
   "outputs": [],
   "source": [
    "# import libraries\n",
    "import numpy as np\n",
    "import pandas as pd\n",
    "import math\n",
    "import matplotlib.pyplot as plt\n",
    "\n",
    "# global variables declaration\n",
    "hidden_size = 4 #copilot conseille 10\n",
    "nb_hidden_layers = 1 #copilot conseille 2"
   ]
  },
  {
   "cell_type": "code",
   "execution_count": 4,
   "metadata": {},
   "outputs": [],
   "source": [
    "#download dataset\n",
    "dataset = np.loadtxt(\"data_ffnn_3classes.txt\")\n",
    "dataset = np.array(dataset)\n",
    "inputs = dataset[:, [0, 1]]\n",
    "outputs = dataset[:, 2]\n",
    "\n",
    "# inputs dimension : (71, 2)\n",
    "# outputs dimension : (71,)\n",
    "\n",
    "inputs_size = inputs.shape[0]\n",
    "features_size = inputs.shape[1]\n",
    "\n",
    "# outputs_size takes the number of classes\n",
    "outputs_size = len(np.unique(outputs))"
   ]
  },
  {
   "cell_type": "code",
   "execution_count": 5,
   "metadata": {},
   "outputs": [],
   "source": [
    "layers_sizes = [features_size] + [hidden_size] * nb_hidden_layers + [outputs_size]"
   ]
  },
  {
   "cell_type": "markdown",
   "metadata": {},
   "source": [
    "<h3>Build Neurons for each Layer</h3>"
   ]
  },
  {
   "cell_type": "code",
   "execution_count": 6,
   "metadata": {},
   "outputs": [],
   "source": [
    "def mapInputs(inputs):\n",
    "    bias = np.ones((inputs.shape[0], 1))\n",
    "    inputs = np.concatenate((bias, inputs), axis=1)\n",
    "    return inputs"
   ]
  },
  {
   "cell_type": "code",
   "execution_count": 7,
   "metadata": {},
   "outputs": [],
   "source": [
    "def defineWeights(layer_size, next_layer_size):\n",
    "    return np.random.rand(layer_size + 1, next_layer_size)"
   ]
  },
  {
   "cell_type": "code",
   "execution_count": 8,
   "metadata": {},
   "outputs": [],
   "source": [
    "def buildNodes(inputs, layer):\n",
    "    return np.dot( mapInputs(inputs), defineWeights(inputs.shape[1], layers_sizes[layer+1]) )"
   ]
  },
  {
   "cell_type": "code",
   "execution_count": 9,
   "metadata": {},
   "outputs": [],
   "source": [
    "def sigmoid(x):\n",
    "    return 1 / (1 + np.exp(-x))"
   ]
  },
  {
   "cell_type": "code",
   "execution_count": 10,
   "metadata": {},
   "outputs": [],
   "source": [
    "def buildNeurons(inputs, layer):\n",
    "    return sigmoid(buildNodes(inputs, layer))"
   ]
  },
  {
   "cell_type": "markdown",
   "metadata": {},
   "source": [
    "<h3>Feed Forward</h3>"
   ]
  },
  {
   "cell_type": "code",
   "execution_count": 14,
   "metadata": {},
   "outputs": [
    {
     "name": "stdout",
     "output_type": "stream",
     "text": [
      "outputs shape : (71, 3)\n"
     ]
    },
    {
     "data": {
      "text/plain": [
       "array([[0.86410713, 0.88859085, 0.89132829],\n",
       "       [0.86158234, 0.88713175, 0.88934029],\n",
       "       [0.86491615, 0.88909231, 0.89209582],\n",
       "       [0.86095818, 0.88680216, 0.88897604],\n",
       "       [0.85773114, 0.88498056, 0.8865356 ],\n",
       "       [0.86030617, 0.88646786, 0.88857676],\n",
       "       [0.86086627, 0.88676737, 0.8889625 ],\n",
       "       [0.86436195, 0.88879117, 0.89170414],\n",
       "       [0.86298707, 0.88796876, 0.89056029],\n",
       "       [0.8647359 , 0.88897703, 0.89191966],\n",
       "       [0.86301837, 0.8880051 , 0.89064051],\n",
       "       [0.85845443, 0.88537061, 0.88702604],\n",
       "       [0.86195468, 0.88732899, 0.88954267],\n",
       "       [0.86366592, 0.88834442, 0.89102538],\n",
       "       [0.86031973, 0.88642026, 0.88841439],\n",
       "       [0.86422539, 0.88869713, 0.89156918],\n",
       "       [0.86309913, 0.88805912, 0.89071979],\n",
       "       [0.86140797, 0.88709512, 0.88942335],\n",
       "       [0.85943932, 0.88595778, 0.88787161],\n",
       "       [0.85983348, 0.88615923, 0.88810374],\n",
       "       [0.85736982, 0.88461765, 0.88547172],\n",
       "       [0.85732358, 0.88463709, 0.88571536],\n",
       "       [0.85388663, 0.88263572, 0.88276269],\n",
       "       [0.85414466, 0.88282566, 0.88321687],\n",
       "       [0.85621192, 0.88402236, 0.88495148],\n",
       "       [0.85474587, 0.88322615, 0.88398804],\n",
       "       [0.85222777, 0.88180736, 0.88205035],\n",
       "       [0.84797479, 0.87931244, 0.87822594],\n",
       "       [0.85175153, 0.88147732, 0.88138141],\n",
       "       [0.84589641, 0.87799987, 0.87571368],\n",
       "       [0.84989654, 0.88033682, 0.87939175],\n",
       "       [0.84618048, 0.8779885 , 0.87475901],\n",
       "       [0.85485621, 0.88319062, 0.88354512],\n",
       "       [0.85515018, 0.8833154 , 0.88350611],\n",
       "       [0.8517173 , 0.88130774, 0.88044082],\n",
       "       [0.84924884, 0.87989892, 0.87842146],\n",
       "       [0.84366517, 0.87660288, 0.87297701],\n",
       "       [0.84909395, 0.87962441, 0.87698379],\n",
       "       [0.85254398, 0.8817146 , 0.88065842],\n",
       "       [0.85172176, 0.8811423 , 0.87924744],\n",
       "       [0.85578054, 0.8835906 , 0.88341396],\n",
       "       [0.85516766, 0.88327633, 0.88318865],\n",
       "       [0.85772513, 0.88479353, 0.88556818],\n",
       "       [0.84897668, 0.87984504, 0.8788326 ],\n",
       "       [0.85396196, 0.88273981, 0.88316998],\n",
       "       [0.84813545, 0.87944942, 0.87860036],\n",
       "       [0.84088   , 0.87517236, 0.87163789],\n",
       "       [0.85616753, 0.88401773, 0.88502274],\n",
       "       [0.85233055, 0.88152757, 0.88001493],\n",
       "       [0.84696654, 0.87829882, 0.87438959],\n",
       "       [0.8577094 , 0.88458285, 0.88402916],\n",
       "       [0.85433127, 0.88309641, 0.88399875],\n",
       "       [0.84771162, 0.87935128, 0.87882524],\n",
       "       [0.84915485, 0.88021603, 0.88004751],\n",
       "       [0.84248461, 0.87640296, 0.87466412],\n",
       "       [0.84475939, 0.87771416, 0.87656524],\n",
       "       [0.85239078, 0.88194707, 0.88236105],\n",
       "       [0.84928327, 0.88028622, 0.88014457],\n",
       "       [0.85078637, 0.88110241, 0.88126586],\n",
       "       [0.84700826, 0.8789145 , 0.87814414],\n",
       "       [0.85140736, 0.88146759, 0.88176928],\n",
       "       [0.84508821, 0.8778549 , 0.87669594],\n",
       "       [0.84195037, 0.87615978, 0.87440653],\n",
       "       [0.8467625 , 0.87886651, 0.87818688],\n",
       "       [0.85497209, 0.88348066, 0.88451761],\n",
       "       [0.84161179, 0.87589437, 0.87389971],\n",
       "       [0.83710278, 0.8734858 , 0.87066726],\n",
       "       [0.84117406, 0.87570275, 0.87373305],\n",
       "       [0.83909622, 0.87458574, 0.87221087],\n",
       "       [0.83949073, 0.87474677, 0.87235128],\n",
       "       [0.84459702, 0.87758339, 0.87632206]])"
      ]
     },
     "execution_count": 14,
     "metadata": {},
     "output_type": "execute_result"
    }
   ],
   "source": [
    "# compute layer outputs for each layer\n",
    "def forwardPropagation(inputs):\n",
    "    layer_inputs = inputs\n",
    "\n",
    "    for layer in range(0, nb_hidden_layers + 1):\n",
    "        layer_outputs = buildNeurons(layer_inputs, layer)\n",
    "        layer_inputs = layer_outputs\n",
    "\n",
    "    outputs = layer_outputs\n",
    "    print(\"outputs shape :\", outputs.shape)\n",
    "    return outputs\n",
    "\n",
    "forwardPropagation(inputs)"
   ]
  },
  {
   "cell_type": "code",
   "execution_count": 13,
   "metadata": {},
   "outputs": [
    {
     "data": {
      "text/plain": [
       "array([[0, 1, 0],\n",
       "       [0, 1, 0],\n",
       "       [0, 1, 0],\n",
       "       [0, 1, 0],\n",
       "       [0, 1, 0],\n",
       "       [0, 1, 0],\n",
       "       [0, 1, 0],\n",
       "       [0, 1, 0],\n",
       "       [0, 1, 0],\n",
       "       [0, 1, 0],\n",
       "       [0, 1, 0],\n",
       "       [0, 1, 0],\n",
       "       [0, 1, 0],\n",
       "       [0, 1, 0],\n",
       "       [0, 1, 0],\n",
       "       [0, 1, 0],\n",
       "       [0, 1, 0],\n",
       "       [0, 1, 0],\n",
       "       [0, 1, 0],\n",
       "       [0, 1, 0],\n",
       "       [1, 0, 0],\n",
       "       [1, 0, 0],\n",
       "       [1, 0, 0],\n",
       "       [1, 0, 0],\n",
       "       [1, 0, 0],\n",
       "       [1, 0, 0],\n",
       "       [1, 0, 0],\n",
       "       [1, 0, 0],\n",
       "       [1, 0, 0],\n",
       "       [1, 0, 0],\n",
       "       [1, 0, 0],\n",
       "       [1, 0, 0],\n",
       "       [1, 0, 0],\n",
       "       [1, 0, 0],\n",
       "       [1, 0, 0],\n",
       "       [1, 0, 0],\n",
       "       [1, 0, 0],\n",
       "       [1, 0, 0],\n",
       "       [1, 0, 0],\n",
       "       [1, 0, 0],\n",
       "       [1, 0, 0],\n",
       "       [1, 0, 0],\n",
       "       [1, 0, 0],\n",
       "       [1, 0, 0],\n",
       "       [1, 0, 0],\n",
       "       [1, 0, 0],\n",
       "       [1, 0, 0],\n",
       "       [1, 0, 0],\n",
       "       [1, 0, 0],\n",
       "       [1, 0, 0],\n",
       "       [0, 1, 0],\n",
       "       [0, 0, 1],\n",
       "       [0, 0, 1],\n",
       "       [0, 0, 1],\n",
       "       [0, 0, 1],\n",
       "       [0, 0, 1],\n",
       "       [0, 0, 1],\n",
       "       [0, 0, 1],\n",
       "       [0, 0, 1],\n",
       "       [0, 0, 1],\n",
       "       [0, 0, 1],\n",
       "       [0, 0, 1],\n",
       "       [0, 0, 1],\n",
       "       [0, 0, 1],\n",
       "       [0, 0, 1],\n",
       "       [0, 0, 1],\n",
       "       [0, 0, 1],\n",
       "       [0, 0, 1],\n",
       "       [0, 0, 1],\n",
       "       [0, 0, 1],\n",
       "       [0, 0, 1]])"
      ]
     },
     "execution_count": 13,
     "metadata": {},
     "output_type": "execute_result"
    }
   ],
   "source": [
    "# Ne fonctionne que pour trois classes\n",
    "def mapOutputs(outputs):\n",
    "    return np.array(\n",
    "        [\n",
    "            [   1 if output == 0 else 0,\n",
    "                1 if output == 1 else 0,\n",
    "                1 if output == 2 else 0 ]\n",
    "            for output in outputs   ]\n",
    "    )\n",
    "\n",
    "mapped_outputs = mapOutputs(outputs)\n",
    "mapped_outputs"
   ]
  },
  {
   "cell_type": "markdown",
   "metadata": {},
   "source": [
    "<h3>Backward</h3>"
   ]
  },
  {
   "cell_type": "code",
   "execution_count": null,
   "metadata": {},
   "outputs": [],
   "source": []
  }
 ],
 "metadata": {
  "kernelspec": {
   "display_name": "Python 3.8.13 64-bit ('3.8.13')",
   "language": "python",
   "name": "python3"
  },
  "language_info": {
   "codemirror_mode": {
    "name": "ipython",
    "version": 3
   },
   "file_extension": ".py",
   "mimetype": "text/x-python",
   "name": "python",
   "nbconvert_exporter": "python",
   "pygments_lexer": "ipython3",
   "version": "3.8.13"
  },
  "orig_nbformat": 4,
  "vscode": {
   "interpreter": {
    "hash": "110cc1dee26208153f2972f08a2ad52b6a56238dc66d48e87fb757ef2996db56"
   }
  }
 },
 "nbformat": 4,
 "nbformat_minor": 2
}
