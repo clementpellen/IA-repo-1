{
 "cells": [
  {
   "cell_type": "markdown",
   "metadata": {},
   "source": [
    "<h2>This code is a Feed Forward Neural Network (FFNN)</h2>"
   ]
  },
  {
   "cell_type": "code",
   "execution_count": 229,
   "metadata": {},
   "outputs": [],
   "source": [
    "# import libraries\n",
    "import numpy as np\n",
    "import pandas as pd\n",
    "import math\n",
    "import matplotlib.pyplot as plt\n",
    "\n",
    "# global variables declaration\n",
    "hidden_size = 4 #copilot conseille 10\n",
    "nb_hidden_layers = 1 #copilot conseille 2"
   ]
  },
  {
   "cell_type": "code",
   "execution_count": 230,
   "metadata": {},
   "outputs": [],
   "source": [
    "#download dataset\n",
    "dataset = np.loadtxt(\"data_ffnn_3classes.txt\")\n",
    "dataset = np.array(dataset)\n",
    "inputs = dataset[:, [0, 1]]\n",
    "outputs = dataset[:, 2]\n",
    "\n",
    "# inputs dimension : (71, 2)\n",
    "# outputs dimension : (71,)\n",
    "\n",
    "inputs_size = inputs.shape[0]\n",
    "features_size = inputs.shape[1]\n",
    "\n",
    "# outputs_size takes the number of classes\n",
    "outputs_size = len(np.unique(outputs))"
   ]
  },
  {
   "cell_type": "code",
   "execution_count": 231,
   "metadata": {},
   "outputs": [],
   "source": [
    "layers_sizes = [features_size] + [hidden_size] * nb_hidden_layers + [outputs_size]"
   ]
  },
  {
   "cell_type": "markdown",
   "metadata": {},
   "source": [
    "<h3>Build Neurons for each Layer</h3>"
   ]
  },
  {
   "cell_type": "code",
   "execution_count": 232,
   "metadata": {},
   "outputs": [],
   "source": [
    "def mapInputs(inputs):\n",
    "    bias = np.ones((inputs.shape[0], 1))\n",
    "    inputs = np.concatenate((bias, inputs), axis=1)\n",
    "    return inputs"
   ]
  },
  {
   "cell_type": "code",
   "execution_count": 233,
   "metadata": {},
   "outputs": [],
   "source": [
    "def defineWeights(layer_size, next_layer_size):\n",
    "    return np.random.rand(layer_size + 1, next_layer_size)"
   ]
  },
  {
   "cell_type": "code",
   "execution_count": 234,
   "metadata": {},
   "outputs": [],
   "source": [
    "def buildNodes(inputs, layer):\n",
    "    return np.dot( mapInputs(inputs), defineWeights(inputs.shape[1], layers_sizes[layer+1]) )"
   ]
  },
  {
   "cell_type": "code",
   "execution_count": 235,
   "metadata": {},
   "outputs": [],
   "source": [
    "def sigmoid(x):\n",
    "    return 1 / (1 + np.exp(-x))"
   ]
  },
  {
   "cell_type": "code",
   "execution_count": 236,
   "metadata": {},
   "outputs": [],
   "source": [
    "def buildNeurons(inputs, layer):\n",
    "    return sigmoid(buildNodes(inputs, layer))"
   ]
  },
  {
   "cell_type": "markdown",
   "metadata": {},
   "source": [
    "<h3>Feed Forward</h3>"
   ]
  },
  {
   "cell_type": "code",
   "execution_count": 240,
   "metadata": {},
   "outputs": [],
   "source": [
    "# compute layer outputs for each layer\n",
    "def forwardPropagation(inputs):\n",
    "    layer_inputs = inputs\n",
    "\n",
    "    for layer in range(0, nb_hidden_layers + 1):\n",
    "        layer_outputs = buildNeurons(layer_inputs, layer)\n",
    "        layer_inputs = layer_outputs\n",
    "\n",
    "    outputs = layer_outputs\n",
    "    print(\"outputs shape :\", outputs.shape)\n",
    "    return outputs"
   ]
  },
  {
   "cell_type": "code",
   "execution_count": 244,
   "metadata": {},
   "outputs": [],
   "source": [
    "def mapOutputs(outputs):\n",
    "    return np.array(\n",
    "        [\n",
    "            [   1 if output == 0 else 0,\n",
    "                1 if output == 1 else 0,\n",
    "                1 if output == 2 else 0 ]\n",
    "            for output in outputs   ]\n",
    "    )"
   ]
  }
 ],
 "metadata": {
  "kernelspec": {
   "display_name": "Python 3.8.13 64-bit ('3.8.13')",
   "language": "python",
   "name": "python3"
  },
  "language_info": {
   "codemirror_mode": {
    "name": "ipython",
    "version": 3
   },
   "file_extension": ".py",
   "mimetype": "text/x-python",
   "name": "python",
   "nbconvert_exporter": "python",
   "pygments_lexer": "ipython3",
   "version": "3.8.13"
  },
  "orig_nbformat": 4,
  "vscode": {
   "interpreter": {
    "hash": "110cc1dee26208153f2972f08a2ad52b6a56238dc66d48e87fb757ef2996db56"
   }
  }
 },
 "nbformat": 4,
 "nbformat_minor": 2
}
